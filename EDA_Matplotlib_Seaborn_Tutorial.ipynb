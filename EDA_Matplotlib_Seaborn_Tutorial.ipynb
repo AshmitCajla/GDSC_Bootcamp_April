{
 "cells": [
  {
   "cell_type": "markdown",
   "id": "535b1fe0",
   "metadata": {},
   "source": [
    "\n",
    "# 📊 EDA with Matplotlib & Seaborn\n",
    "Welcome to your first hands-on data exploration lab!  \n",
    "Today, we'll learn how to **visualize data like data scientists** using **Matplotlib** and **Seaborn**. Let's make it fun, visual, and interactive! 🎨✨\n"
   ]
  },
  {
   "cell_type": "code",
   "execution_count": null,
   "id": "ce06d59c",
   "metadata": {},
   "outputs": [],
   "source": [
    "import pandas as pd\n",
    "import numpy as np\n",
    "import matplotlib.pyplot as plt\n",
    "import seaborn as sns\n",
    "\n",
    "sns.set(style=\"whitegrid\")  # Stylish visuals"
   ]
  },
  {
   "cell_type": "markdown",
   "id": "6c38efff",
   "metadata": {},
   "source": [
    "## 📂 Load Some Cool Data - Titanic! 🚢"
   ]
  },
  {
   "cell_type": "code",
   "execution_count": null,
   "id": "f7d79be3",
   "metadata": {},
   "outputs": [],
   "source": [
    "\n",
    "df = sns.load_dataset('titanic')\n",
    "df.head()\n"
   ]
  },
  {
   "cell_type": "markdown",
   "id": "ee9379ba",
   "metadata": {},
   "source": [
    "## 🔍 Univariate Analysis (One column at a time!)"
   ]
  },
  {
   "cell_type": "markdown",
   "id": "1f901316",
   "metadata": {},
   "source": [
    "### 🎯 Histogram: Age Distribution"
   ]
  },
  {
   "cell_type": "code",
   "execution_count": null,
   "id": "93e00aeb",
   "metadata": {},
   "outputs": [],
   "source": [
    "\n",
    "plt.figure(figsize=(8,5))\n",
    "sns.histplot(df['age'], kde=True, color='skyblue')\n",
    "plt.title('Age Distribution of Titanic Passengers')\n",
    "plt.xlabel('Age')\n",
    "plt.show()\n"
   ]
  },
  {
   "cell_type": "markdown",
   "id": "032c4434",
   "metadata": {},
   "source": [
    "### 📦 Boxplot: Spot the Outliers in Age"
   ]
  },
  {
   "cell_type": "code",
   "execution_count": null,
   "id": "9016f0af",
   "metadata": {},
   "outputs": [],
   "source": [
    "\n",
    "plt.figure(figsize=(8,2))\n",
    "sns.boxplot(x=df['age'], color='lightgreen')\n",
    "plt.title('Age - Boxplot')\n",
    "plt.show()\n"
   ]
  },
  {
   "cell_type": "markdown",
   "id": "d8ae7d3e",
   "metadata": {},
   "source": [
    "### 💡 Try This #1: Plot Fare Distribution"
   ]
  },
  {
   "cell_type": "markdown",
   "id": "f08b0cb2",
   "metadata": {},
   "source": [
    "🧪 **Task**: Plot a histogram of the `fare` column\n",
    "\n",
    "✍️ **Hint**: Use `sns.histplot()` with `kde=True`"
   ]
  },
  {
   "cell_type": "code",
   "execution_count": null,
   "id": "bec42aa4",
   "metadata": {},
   "outputs": [],
   "source": [
    "# Your code here"
   ]
  },
  {
   "cell_type": "markdown",
   "id": "b32524e0",
   "metadata": {},
   "source": [
    "✅ **Solution:**"
   ]
  },
  {
   "cell_type": "code",
   "execution_count": null,
   "id": "a841a9e6",
   "metadata": {},
   "outputs": [],
   "source": [
    "\n",
    "plt.figure(figsize=(8,5))\n",
    "sns.histplot(df['fare'], kde=True, color='orange')\n",
    "plt.title('Fare Distribution')\n",
    "plt.xlabel('Fare')\n",
    "plt.show()\n"
   ]
  },
  {
   "cell_type": "markdown",
   "id": "5dd99406",
   "metadata": {},
   "source": [
    "## 📈 Bivariate Analysis (Two columns at once!)"
   ]
  },
  {
   "cell_type": "markdown",
   "id": "5ddce44f",
   "metadata": {},
   "source": [
    "### 🔄 Scatter Plot: Age vs Fare"
   ]
  },
  {
   "cell_type": "code",
   "execution_count": null,
   "id": "ad5dbf72",
   "metadata": {},
   "outputs": [],
   "source": [
    "\n",
    "plt.figure(figsize=(8,5))\n",
    "sns.scatterplot(x='age', y='fare', data=df, hue='class')\n",
    "plt.title('Age vs Fare')\n",
    "plt.show()\n"
   ]
  },
  {
   "cell_type": "markdown",
   "id": "c87eb309",
   "metadata": {},
   "source": [
    "### 💡 Try This #2: Boxplot of Age by Sex"
   ]
  },
  {
   "cell_type": "markdown",
   "id": "2898f525",
   "metadata": {},
   "source": [
    "🧪 **Task**: Create a boxplot of `age` for each `sex`\n",
    "\n",
    "✍️ **Hint**: Use `sns.boxplot(x='sex', y='age', data=df)`"
   ]
  },
  {
   "cell_type": "code",
   "execution_count": null,
   "id": "467fe6e2",
   "metadata": {},
   "outputs": [],
   "source": [
    "# Your code here"
   ]
  },
  {
   "cell_type": "markdown",
   "id": "76e01fae",
   "metadata": {},
   "source": [
    "✅ **Solution:**"
   ]
  },
  {
   "cell_type": "code",
   "execution_count": null,
   "id": "6da6c713",
   "metadata": {},
   "outputs": [],
   "source": [
    "\n",
    "plt.figure(figsize=(6,4))\n",
    "sns.boxplot(x='sex', y='age', data=df, palette='pastel')\n",
    "plt.title('Age Distribution by Sex')\n",
    "plt.show()\n"
   ]
  },
  {
   "cell_type": "markdown",
   "id": "e825d5cb",
   "metadata": {},
   "source": [
    "## 🧠 Correlation Heatmap (for numeric columns only!)"
   ]
  },
  {
   "cell_type": "code",
   "execution_count": null,
   "id": "d39aebaa",
   "metadata": {},
   "outputs": [],
   "source": [
    "\n",
    "plt.figure(figsize=(10,6))\n",
    "sns.heatmap(df.corr(numeric_only=True), annot=True, cmap='coolwarm', fmt=\".2f\")\n",
    "plt.title('Correlation Heatmap')\n",
    "plt.show()\n"
   ]
  },
  {
   "cell_type": "markdown",
   "id": "bac45fcc",
   "metadata": {},
   "source": [
    "\n",
    "---  \n",
    "## 🎉 You're Now an EDA Explorer!\n",
    "You've just scratched the surface of what Seaborn and Matplotlib can do.  \n",
    "Keep practicing, and you'll be turning data into stories in no time! 🧙‍♂️📊  \n"
   ]
  }
 ],
 "metadata": {
  "kernelspec": {
   "display_name": "Python 3",
   "language": "python",
   "name": "python3"
  },
  "language_info": {
   "codemirror_mode": {
    "name": "ipython",
    "version": 3
   },
   "file_extension": ".py",
   "mimetype": "text/x-python",
   "name": "python",
   "nbconvert_exporter": "python",
   "pygments_lexer": "ipython3",
   "version": "3.10.6"
  }
 },
 "nbformat": 4,
 "nbformat_minor": 5
}
