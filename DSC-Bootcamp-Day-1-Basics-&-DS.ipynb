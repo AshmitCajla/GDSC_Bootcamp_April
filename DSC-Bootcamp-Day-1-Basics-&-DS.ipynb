{
  "nbformat": 4,
  "nbformat_minor": 0,
  "metadata": {
    "colab": {
      "provenance": []
    },
    "kernelspec": {
      "name": "python3",
      "display_name": "Python 3"
    },
    "language_info": {
      "name": "python"
    }
  },
  "cells": [
    {
      "cell_type": "markdown",
      "source": [
        "# DSC BOOTCAMP 25'"
      ],
      "metadata": {
        "id": "7SHJF1LfgRr3"
      }
    },
    {
      "cell_type": "markdown",
      "source": [
        "##What is Python ?\n"
      ],
      "metadata": {
        "id": "yjmmOrSXUHZR"
      }
    },
    {
      "cell_type": "markdown",
      "source": [
        "Python is a popular, easy-to-learn programming language used for web development, data science, AI, automation, and more.\n",
        "\n",
        "**Why Python?**\n",
        "\n",
        "\n",
        "*   **Simple & Readable** – Uses plain English-like syntax.\n",
        "*   **Beginner-Friendly** – Great for first-time coders.\n",
        "*   **Powerful** – Used in big tech companies like Google and Netflix.\n",
        "\n"
      ],
      "metadata": {
        "id": "f0fyOBDRUR0R"
      }
    },
    {
      "cell_type": "markdown",
      "source": [
        "***To climb Mt. Everest, you need a good pair of shoes***\n",
        "\n",
        "***To excel in the field of Data Science and Machine Learning, you need a good hold on Python***"
      ],
      "metadata": {
        "id": "8nBriIYwVCMb"
      }
    },
    {
      "cell_type": "markdown",
      "source": [
        "# Python DataTypes"
      ],
      "metadata": {
        "id": "5APTmaU-VfGr"
      }
    },
    {
      "cell_type": "code",
      "source": [
        "\n",
        "#integer -5 , 65\n",
        "#float(decimal valued integers) - 25.2\n",
        "#strings -  agrim\n",
        "#booleans - true or false\n"
      ],
      "metadata": {
        "id": "DqbBdesfVi07"
      },
      "execution_count": null,
      "outputs": []
    },
    {
      "cell_type": "code",
      "source": [
        "# int value - it reduces your float value to int value -> floor function is implied here\n"
      ],
      "metadata": {
        "id": "TmUhyJ01FLET"
      },
      "execution_count": null,
      "outputs": []
    },
    {
      "cell_type": "code",
      "source": [
        "a = 5;\n",
        "\n"
      ],
      "metadata": {
        "id": "hkd72afJrThD"
      },
      "execution_count": null,
      "outputs": []
    },
    {
      "cell_type": "code",
      "source": [
        "b = 3.2;"
      ],
      "metadata": {
        "id": "sL0RWwJprYvM"
      },
      "execution_count": null,
      "outputs": []
    },
    {
      "cell_type": "code",
      "source": [],
      "metadata": {
        "colab": {
          "base_uri": "https://localhost:8080/",
          "height": 141
        },
        "id": "V-b2BGZUrhmy",
        "outputId": "1770ed73-4238-4f27-c752-a56be7dbc76e"
      },
      "execution_count": null,
      "outputs": [
        {
          "output_type": "error",
          "ename": "NameError",
          "evalue": "name 'true' is not defined",
          "traceback": [
            "\u001b[0;31m---------------------------------------------------------------------------\u001b[0m",
            "\u001b[0;31mNameError\u001b[0m                                 Traceback (most recent call last)",
            "\u001b[0;32m<ipython-input-26-9542d0f4756c>\u001b[0m in \u001b[0;36m<cell line: 0>\u001b[0;34m()\u001b[0m\n\u001b[0;32m----> 1\u001b[0;31m \u001b[0mc\u001b[0m \u001b[0;34m=\u001b[0m \u001b[0mtrue\u001b[0m\u001b[0;34m\u001b[0m\u001b[0;34m\u001b[0m\u001b[0m\n\u001b[0m",
            "\u001b[0;31mNameError\u001b[0m: name 'true' is not defined"
          ]
        }
      ]
    },
    {
      "cell_type": "markdown",
      "source": [
        "## Arithmetic Operations"
      ],
      "metadata": {
        "id": "_0CXhuUuVlVO"
      }
    },
    {
      "cell_type": "markdown",
      "source": [
        "* multiplication -> *\n",
        "* a+b - addition\n",
        "* a-b - subt\n",
        "* a/b - division\n",
        "* % - modulo\n",
        "* ** - exponential\n",
        "* a//b - floor division"
      ],
      "metadata": {
        "id": "VzOTFbV0mJIB"
      }
    },
    {
      "cell_type": "code",
      "source": [
        " a = 5\n",
        " b = 2"
      ],
      "metadata": {
        "id": "AnJUMtpJrpK2"
      },
      "execution_count": null,
      "outputs": []
    },
    {
      "cell_type": "code",
      "source": [
        " c = a+b"
      ],
      "metadata": {
        "id": "fLPtqxaqKlsG"
      },
      "execution_count": null,
      "outputs": []
    },
    {
      "cell_type": "code",
      "source": [
        " print( a-b)\n",
        " print(a/b)\n",
        " print( a//b)\n",
        " print( a **2)"
      ],
      "metadata": {
        "colab": {
          "base_uri": "https://localhost:8080/"
        },
        "id": "zUwzHy8xr25S",
        "outputId": "db961fd7-a894-45c5-9d68-29eacbecf875"
      },
      "execution_count": null,
      "outputs": [
        {
          "output_type": "stream",
          "name": "stdout",
          "text": [
            "3\n",
            "2.5\n",
            "2\n",
            "25\n"
          ]
        }
      ]
    },
    {
      "cell_type": "markdown",
      "source": [
        "## Variables"
      ],
      "metadata": {
        "id": "P3Byj60aVtW2"
      }
    },
    {
      "cell_type": "code",
      "source": [
        "n=10"
      ],
      "metadata": {
        "id": "Z3Hrq_HfV7Sx"
      },
      "execution_count": null,
      "outputs": []
    },
    {
      "cell_type": "markdown",
      "source": [
        "**Variable_name = value**"
      ],
      "metadata": {
        "id": "EXCNj6mPG3Wz"
      }
    },
    {
      "cell_type": "code",
      "source": [
        "name = \"Guransh\"\n",
        "print(name)"
      ],
      "metadata": {
        "id": "5Z7MIkbzV8y8",
        "colab": {
          "base_uri": "https://localhost:8080/"
        },
        "outputId": "9f18efc3-2454-4d06-9a10-e24b1ce3c253"
      },
      "execution_count": null,
      "outputs": [
        {
          "output_type": "stream",
          "name": "stdout",
          "text": [
            "Guransh\n"
          ]
        }
      ]
    },
    {
      "cell_type": "code",
      "source": [],
      "metadata": {
        "id": "hGylFLQeV8wY"
      },
      "execution_count": null,
      "outputs": []
    },
    {
      "cell_type": "markdown",
      "source": [
        "# Input/Output in Python"
      ],
      "metadata": {
        "id": "NrFIYYY1WCWX"
      }
    },
    {
      "cell_type": "markdown",
      "source": [
        "### Fetching Input"
      ],
      "metadata": {
        "id": "HvLFTj29WNNu"
      }
    },
    {
      "cell_type": "markdown",
      "source": [
        "- **input is always taken as string**\n",
        "\n",
        "* input(\"prompt\")"
      ],
      "metadata": {
        "id": "lpCEfHctIFMn"
      }
    },
    {
      "cell_type": "code",
      "source": [
        "name = input(\"Please tell me your name : \")"
      ],
      "metadata": {
        "id": "_efVz5-aWR_a",
        "colab": {
          "base_uri": "https://localhost:8080/"
        },
        "outputId": "e8bd2024-6d35-4358-adce-08f9e4bc77f6"
      },
      "execution_count": null,
      "outputs": [
        {
          "name": "stdout",
          "output_type": "stream",
          "text": [
            "Please tell me your name : Soam\n"
          ]
        }
      ]
    },
    {
      "cell_type": "markdown",
      "source": [
        "* input is taken by default in form of string"
      ],
      "metadata": {
        "id": "HYfAbzkdssOA"
      }
    },
    {
      "cell_type": "code",
      "source": [
        "age = int(input(\"Enter your age:\"))"
      ],
      "metadata": {
        "id": "t7CbDKzjWR7C",
        "colab": {
          "base_uri": "https://localhost:8080/"
        },
        "outputId": "2bc3df4b-eaa4-4d4a-c940-272583f65244"
      },
      "execution_count": null,
      "outputs": [
        {
          "name": "stdout",
          "output_type": "stream",
          "text": [
            "Enter your age:15\n"
          ]
        }
      ]
    },
    {
      "cell_type": "code",
      "source": [
        "new = age +5"
      ],
      "metadata": {
        "id": "tOWyye96s1GC"
      },
      "execution_count": null,
      "outputs": []
    },
    {
      "cell_type": "code",
      "source": [
        "print(new)"
      ],
      "metadata": {
        "colab": {
          "base_uri": "https://localhost:8080/"
        },
        "id": "4_a21I9Is1Co",
        "outputId": "cba992b9-7b54-47dc-ecef-64c3848f3d00"
      },
      "execution_count": null,
      "outputs": [
        {
          "output_type": "stream",
          "name": "stdout",
          "text": [
            "20\n"
          ]
        }
      ]
    },
    {
      "cell_type": "code",
      "source": [],
      "metadata": {
        "id": "pmpLXSMMs1AM"
      },
      "execution_count": null,
      "outputs": []
    },
    {
      "cell_type": "code",
      "source": [],
      "metadata": {
        "id": "7TAGg0OUs0-A"
      },
      "execution_count": null,
      "outputs": []
    },
    {
      "cell_type": "markdown",
      "source": [
        "### Displaying on Screen"
      ],
      "metadata": {
        "id": "-5fC6_9GWSw5"
      }
    },
    {
      "cell_type": "code",
      "source": [
        "print(a)\n",
        "print(b)\n",
        "print(c)"
      ],
      "metadata": {
        "id": "gZ3WGWWpWeO1",
        "colab": {
          "base_uri": "https://localhost:8080/"
        },
        "outputId": "8ddea63d-e64b-449d-b929-acc8f7f91d60"
      },
      "execution_count": null,
      "outputs": [
        {
          "output_type": "stream",
          "name": "stdout",
          "text": [
            "5\n",
            "2\n",
            "7\n"
          ]
        }
      ]
    },
    {
      "cell_type": "code",
      "source": [],
      "metadata": {
        "id": "rDJ1aTEQWeFz"
      },
      "execution_count": null,
      "outputs": []
    },
    {
      "cell_type": "code",
      "source": [],
      "metadata": {
        "id": "zWlEuVtqWdnC"
      },
      "execution_count": null,
      "outputs": []
    },
    {
      "cell_type": "code",
      "source": [
        "# f string formatted output\n",
        "# name, age\n",
        "# f\"abc abc {var_name}\"\n",
        "#My name is Agrim verma, my age is 19 years\n",
        "\n",
        "\n"
      ],
      "metadata": {
        "id": "mj7WQ68cWpLW"
      },
      "execution_count": null,
      "outputs": []
    },
    {
      "cell_type": "code",
      "source": [
        "print(f\"My name is {name} and my age is {age}\")"
      ],
      "metadata": {
        "colab": {
          "base_uri": "https://localhost:8080/"
        },
        "id": "oafPGXs6tVEu",
        "outputId": "6237031b-5f73-4fb3-c3f7-12d2d1c53f13"
      },
      "execution_count": null,
      "outputs": [
        {
          "output_type": "stream",
          "name": "stdout",
          "text": [
            "My name is Soam and my age is 15\n"
          ]
        }
      ]
    },
    {
      "cell_type": "markdown",
      "source": [
        "# Some common built in functions\n",
        "\n"
      ],
      "metadata": {
        "id": "mi_qNaAYLbyY"
      }
    },
    {
      "cell_type": "code",
      "source": [
        "type(name)"
      ],
      "metadata": {
        "colab": {
          "base_uri": "https://localhost:8080/"
        },
        "id": "rBIaZL-DLfg-",
        "outputId": "fb030c90-9074-4283-fe6c-0894d2afd177"
      },
      "execution_count": null,
      "outputs": [
        {
          "output_type": "execute_result",
          "data": {
            "text/plain": [
              "str"
            ]
          },
          "metadata": {},
          "execution_count": 48
        }
      ]
    },
    {
      "cell_type": "code",
      "source": [
        "type(age)"
      ],
      "metadata": {
        "colab": {
          "base_uri": "https://localhost:8080/"
        },
        "id": "isaGBmawttdc",
        "outputId": "210a4e7b-00ba-4ae5-8e0b-607916df2271"
      },
      "execution_count": null,
      "outputs": [
        {
          "output_type": "execute_result",
          "data": {
            "text/plain": [
              "int"
            ]
          },
          "metadata": {},
          "execution_count": 46
        }
      ]
    },
    {
      "cell_type": "code",
      "source": [
        "type(age)\n",
        "\n",
        "NEW_NAME= \"PARTH\""
      ],
      "metadata": {
        "id": "ZwPxg2BwLrHF"
      },
      "execution_count": null,
      "outputs": []
    },
    {
      "cell_type": "code",
      "source": [
        "len(name)"
      ],
      "metadata": {
        "colab": {
          "base_uri": "https://localhost:8080/"
        },
        "id": "NgBsk830L3-v",
        "outputId": "19bbf206-5140-4507-d76b-08905cbe78cf"
      },
      "execution_count": null,
      "outputs": [
        {
          "output_type": "execute_result",
          "data": {
            "text/plain": [
              "4"
            ]
          },
          "metadata": {},
          "execution_count": 49
        }
      ]
    },
    {
      "cell_type": "markdown",
      "source": [
        "## Strings"
      ],
      "metadata": {
        "id": "LSTw2aLWWr7J"
      }
    },
    {
      "cell_type": "markdown",
      "source": [
        "\n",
        "\n",
        "*   A string is a sequence of characters enclosed in quotes (' ', \" \", ''' ''', or \"\"\" \"\"\")\n",
        "*   Indexing starts from 0\n",
        "\n"
      ],
      "metadata": {
        "id": "F66vzeP5W9eX"
      }
    },
    {
      "cell_type": "code",
      "source": [
        "fav_subject = \"Professional_comm\""
      ],
      "metadata": {
        "id": "Q6QidPrFWtpG"
      },
      "execution_count": null,
      "outputs": []
    },
    {
      "cell_type": "code",
      "source": [
        "len(fav_subject)"
      ],
      "metadata": {
        "id": "RdCVj8O-XOV4",
        "colab": {
          "base_uri": "https://localhost:8080/"
        },
        "outputId": "5219ae6b-39ae-4245-b8d1-38ec8485347d"
      },
      "execution_count": null,
      "outputs": [
        {
          "output_type": "execute_result",
          "data": {
            "text/plain": [
              "17"
            ]
          },
          "metadata": {},
          "execution_count": 51
        }
      ]
    },
    {
      "cell_type": "code",
      "source": [
        "# String slicing - var_name[x:y] -> x is the starting index(INCLUSIVE), y is the ending index(EXCLUSIVE)"
      ],
      "metadata": {
        "id": "DeC6ECe_XOTf"
      },
      "execution_count": null,
      "outputs": []
    },
    {
      "cell_type": "code",
      "source": [],
      "metadata": {
        "id": "QWfVJT5eXndr"
      },
      "execution_count": null,
      "outputs": []
    },
    {
      "cell_type": "code",
      "source": [
        "\n"
      ],
      "metadata": {
        "id": "uR1gd8NSP1s2"
      },
      "execution_count": null,
      "outputs": []
    },
    {
      "cell_type": "markdown",
      "source": [
        "Note -\n",
        "\n",
        "* .title()\n",
        "* .upper()\n",
        "* .lower()"
      ],
      "metadata": {
        "id": "UaymUtBqRZTv"
      }
    },
    {
      "cell_type": "code",
      "source": [
        "fav_subject.upper()"
      ],
      "metadata": {
        "id": "fXgU1L-UTESd",
        "colab": {
          "base_uri": "https://localhost:8080/",
          "height": 36
        },
        "outputId": "9359895f-13ea-4f7c-e9df-b7e6d199706f"
      },
      "execution_count": null,
      "outputs": [
        {
          "output_type": "execute_result",
          "data": {
            "text/plain": [
              "'PROFESSIONAL_COMM'"
            ],
            "application/vnd.google.colaboratory.intrinsic+json": {
              "type": "string"
            }
          },
          "metadata": {},
          "execution_count": 52
        }
      ]
    },
    {
      "cell_type": "code",
      "source": [
        "fav_subject.lower()"
      ],
      "metadata": {
        "id": "Jex6GGhiTRu1",
        "colab": {
          "base_uri": "https://localhost:8080/",
          "height": 36
        },
        "outputId": "bc1cb605-c564-40d6-f705-22376990725c"
      },
      "execution_count": null,
      "outputs": [
        {
          "output_type": "execute_result",
          "data": {
            "text/plain": [
              "'professional_comm'"
            ],
            "application/vnd.google.colaboratory.intrinsic+json": {
              "type": "string"
            }
          },
          "metadata": {},
          "execution_count": 53
        }
      ]
    },
    {
      "cell_type": "code",
      "source": [
        "my_fav = \"dbms\""
      ],
      "metadata": {
        "id": "2nbi1wZqXnbD"
      },
      "execution_count": null,
      "outputs": []
    },
    {
      "cell_type": "code",
      "source": [
        "my_fav.title()"
      ],
      "metadata": {
        "colab": {
          "base_uri": "https://localhost:8080/",
          "height": 36
        },
        "id": "tELVpIJIvD57",
        "outputId": "6efdcce3-2edd-42ff-983b-c62fea909da5"
      },
      "execution_count": null,
      "outputs": [
        {
          "output_type": "execute_result",
          "data": {
            "text/plain": [
              "'Dbms'"
            ],
            "application/vnd.google.colaboratory.intrinsic+json": {
              "type": "string"
            }
          },
          "metadata": {},
          "execution_count": 55
        }
      ]
    },
    {
      "cell_type": "markdown",
      "source": [
        "## Note -\n",
        "\n",
        "*   To check if a string contains a character (or a sequence of characters), we use the in operator , returns true or false\n",
        "\n"
      ],
      "metadata": {
        "id": "yIkgF4JSXsJu"
      }
    },
    {
      "cell_type": "code",
      "source": [
        "\n"
      ],
      "metadata": {
        "colab": {
          "base_uri": "https://localhost:8080/"
        },
        "id": "nyvEvaJqX2IW",
        "outputId": "73cf1664-153f-4065-dba0-04e0016c0a8f"
      },
      "execution_count": null,
      "outputs": [
        {
          "output_type": "stream",
          "name": "stdout",
          "text": [
            "True\n"
          ]
        }
      ]
    },
    {
      "cell_type": "markdown",
      "source": [
        "# Comparison Operators"
      ],
      "metadata": {
        "id": "Y41zmgUaX481"
      }
    },
    {
      "cell_type": "markdown",
      "source": [
        "\n",
        "\n",
        "*   a > b\n",
        "*   a >= b\n",
        "* a < b\n",
        "* a <= b\n",
        "* a == b\n",
        "* a != b\n",
        "\n"
      ],
      "metadata": {
        "id": "wvnblKZvYAJz"
      }
    },
    {
      "cell_type": "markdown",
      "source": [
        "  "
      ],
      "metadata": {
        "id": "Q27Pffnnv55-"
      }
    },
    {
      "cell_type": "code",
      "source": [
        "fav_subject.title()"
      ],
      "metadata": {
        "colab": {
          "base_uri": "https://localhost:8080/",
          "height": 36
        },
        "id": "dFH_cTQmwAwT",
        "outputId": "380a582c-e35e-449a-b227-761785a1a7d2"
      },
      "execution_count": null,
      "outputs": [
        {
          "output_type": "execute_result",
          "data": {
            "text/plain": [
              "'Professional_Comm'"
            ],
            "application/vnd.google.colaboratory.intrinsic+json": {
              "type": "string"
            }
          },
          "metadata": {},
          "execution_count": 56
        }
      ]
    },
    {
      "cell_type": "code",
      "source": [
        "fav = \"man_pro\""
      ],
      "metadata": {
        "id": "sgHSonHSwEnC"
      },
      "execution_count": null,
      "outputs": []
    },
    {
      "cell_type": "code",
      "source": [
        "fav.title()"
      ],
      "metadata": {
        "colab": {
          "base_uri": "https://localhost:8080/",
          "height": 36
        },
        "id": "abf0ePWkwGPb",
        "outputId": "6086f35b-055c-4f1d-ab8c-23d288a27b9a"
      },
      "execution_count": null,
      "outputs": [
        {
          "output_type": "execute_result",
          "data": {
            "text/plain": [
              "'Man_Pro'"
            ],
            "application/vnd.google.colaboratory.intrinsic+json": {
              "type": "string"
            }
          },
          "metadata": {},
          "execution_count": 60
        }
      ]
    },
    {
      "cell_type": "markdown",
      "source": [
        "# If else\n"
      ],
      "metadata": {
        "id": "FEfnpzOfQKsv"
      }
    },
    {
      "cell_type": "code",
      "source": [
        "'''if(expression):\n",
        "    #work to be done\n",
        "  else(expression):\n",
        "    #work to be done\n",
        "'''"
      ],
      "metadata": {
        "id": "VERgj3c0X90f"
      },
      "execution_count": null,
      "outputs": []
    },
    {
      "cell_type": "code",
      "source": [
        "aura = 100\n",
        "marks = float(input(\"Please enter your mst marks: \"))\n",
        "\n",
        "if(marks>=25):\n",
        "  print(\"Aura improved !!\")\n",
        "  aura = aura +100\n",
        "elif(marks == 10):\n",
        "  print(\"Aura too low\")\n",
        "else:\n",
        "  print(\"Aura decreased\")\n",
        "  aura = aura -50\n",
        "\n",
        "print(f\"My new aura is {aura} \")"
      ],
      "metadata": {
        "colab": {
          "base_uri": "https://localhost:8080/"
        },
        "id": "IvJ3dkwkX-i6",
        "outputId": "71976947-ccaa-44ae-f5f9-1828243ce0f4"
      },
      "execution_count": null,
      "outputs": [
        {
          "output_type": "stream",
          "name": "stdout",
          "text": [
            "Please enter your mst marks: 5\n",
            "Aura decreased\n",
            "My new aura is 50 \n"
          ]
        }
      ]
    },
    {
      "cell_type": "markdown",
      "source": [
        "# Loops\n",
        "\n",
        "###🔁 Loop it Like a Pro!\n",
        "\n",
        "* Loops are essential in machine learning. Whether it's training over 1000 images or processing records in a dataset, you'll use them everywhere."
      ],
      "metadata": {
        "id": "Ll3XQhdJYVUY"
      }
    },
    {
      "cell_type": "markdown",
      "source": [
        "### For Loop\n",
        "\n"
      ],
      "metadata": {
        "id": "gpOpADayYY2P"
      }
    },
    {
      "cell_type": "code",
      "source": [
        "for i in range(5):\n",
        "  print(i)"
      ],
      "metadata": {
        "id": "zpZlrfhvYbTk",
        "colab": {
          "base_uri": "https://localhost:8080/"
        },
        "outputId": "fcc7ad86-c909-4bce-d499-74da0cf61c12"
      },
      "execution_count": null,
      "outputs": [
        {
          "output_type": "stream",
          "name": "stdout",
          "text": [
            "0\n",
            "1\n",
            "2\n",
            "3\n",
            "4\n"
          ]
        }
      ]
    },
    {
      "cell_type": "markdown",
      "source": [
        "\n",
        "\n",
        "---\n",
        "\n"
      ],
      "metadata": {
        "id": "9r5yOkztokNa"
      }
    },
    {
      "cell_type": "markdown",
      "source": [
        "## Note -\n",
        "\n",
        "* #range(start(inclusive), stop(is exclusive), step)"
      ],
      "metadata": {
        "id": "MDjO1zv5n8GX"
      }
    },
    {
      "cell_type": "markdown",
      "source": [
        "### QUICK TASK -\n",
        "\n",
        "Write a for loop to write table of 2"
      ],
      "metadata": {
        "id": "7dw9PA6vRBcQ"
      }
    },
    {
      "cell_type": "code",
      "source": [
        "for i in range(20, 30 , 1):\n",
        "  print(i)"
      ],
      "metadata": {
        "id": "EW5foAQuL5r7",
        "colab": {
          "base_uri": "https://localhost:8080/"
        },
        "outputId": "028083ab-f215-4314-e84a-7a2eb08f123f"
      },
      "execution_count": null,
      "outputs": [
        {
          "output_type": "stream",
          "name": "stdout",
          "text": [
            "20\n",
            "21\n",
            "22\n",
            "23\n",
            "24\n",
            "25\n",
            "26\n",
            "27\n",
            "28\n",
            "29\n"
          ]
        }
      ]
    },
    {
      "cell_type": "code",
      "source": [],
      "metadata": {
        "id": "8tIBnisMYbPJ"
      },
      "execution_count": null,
      "outputs": []
    },
    {
      "cell_type": "markdown",
      "source": [
        "**For loop is a definite loop**\n",
        "\n",
        "**While loop is an indefinite loop**"
      ],
      "metadata": {
        "id": "De42X39LVR0z"
      }
    },
    {
      "cell_type": "markdown",
      "source": [
        "**KBNJ - update your iterator**"
      ],
      "metadata": {
        "id": "dzpfsr49WxuK"
      }
    },
    {
      "cell_type": "markdown",
      "source": [
        "### While Loop"
      ],
      "metadata": {
        "id": "mjepxTSMYb8J"
      }
    },
    {
      "cell_type": "code",
      "source": [
        "k =1\n",
        "\n",
        "while k<=6:\n",
        "  if(k ==4):\n",
        "    break\n",
        "  print(k)\n",
        "  k = k+1"
      ],
      "metadata": {
        "colab": {
          "base_uri": "https://localhost:8080/"
        },
        "id": "_BKjIsEQYgL-",
        "outputId": "8fc47344-0acc-401c-f1a1-f414c5f0f0c8"
      },
      "execution_count": null,
      "outputs": [
        {
          "output_type": "stream",
          "name": "stdout",
          "text": [
            "1\n",
            "2\n",
            "3\n"
          ]
        }
      ]
    },
    {
      "cell_type": "code",
      "source": [
        " i =1\n",
        "while i <5:\n",
        "  print(i)\n",
        "  i=i+1"
      ],
      "metadata": {
        "colab": {
          "base_uri": "https://localhost:8080/"
        },
        "id": "lGRA6hsXoQWG",
        "outputId": "3c242a8d-815f-42ce-def3-1ccc524f1806"
      },
      "execution_count": null,
      "outputs": [
        {
          "output_type": "stream",
          "name": "stdout",
          "text": [
            "1\n",
            "2\n",
            "3\n",
            "4\n"
          ]
        }
      ]
    },
    {
      "cell_type": "markdown",
      "source": [
        "**Explore Yourself -**\n",
        "\n",
        "*   Loop Control Statements ( break , continue)\n",
        "*   Nesteed Loops\n",
        "\n"
      ],
      "metadata": {
        "id": "jYyzfQHCYgi_"
      }
    },
    {
      "cell_type": "markdown",
      "source": [
        "\n",
        "\n",
        "---\n",
        "\n",
        "\n",
        "\n",
        "---\n",
        "\n"
      ],
      "metadata": {
        "id": "DSE9u5iNo3Hd"
      }
    },
    {
      "cell_type": "markdown",
      "source": [
        "**Day 3 Starts from here -**"
      ],
      "metadata": {
        "id": "otfRA38LrJdu"
      }
    },
    {
      "cell_type": "markdown",
      "source": [
        "# Data Structures in Python\n",
        "\n",
        "*   Lists\n",
        "*   Sets\n",
        "* Dictionaries\n",
        "* Tuples\n",
        "\n"
      ],
      "metadata": {
        "id": "nuzPNnEnY4vh"
      }
    },
    {
      "cell_type": "markdown",
      "source": [
        "# Lists\n",
        "\n",
        "A List is a data structure in Python that is **mutable** , or **changeable**, **ordered sequence** of elements. Each element or value that is inside of a list is called an **ITEM**. Just as strings are defined as characters between quotes, lists are defined by having values between **SQUARE BRACKETS [ ]**"
      ],
      "metadata": {
        "id": "DVNKNat5ZM5E"
      }
    },
    {
      "cell_type": "code",
      "source": [
        "my_lst = [1,2,3,4,5]\n",
        "print(my_lst)\n",
        "type(my_lst)"
      ],
      "metadata": {
        "id": "8vJMw77_aH50",
        "colab": {
          "base_uri": "https://localhost:8080/"
        },
        "outputId": "1f9bc319-cc10-4e1f-cf02-07c9507adb21"
      },
      "execution_count": null,
      "outputs": [
        {
          "output_type": "stream",
          "name": "stdout",
          "text": [
            "[1, 2, 3, 4, 5]\n"
          ]
        },
        {
          "output_type": "execute_result",
          "data": {
            "text/plain": [
              "list"
            ]
          },
          "metadata": {},
          "execution_count": 69
        }
      ]
    },
    {
      "cell_type": "code",
      "source": [
        "my_lst2=[1,2,36,45,'hello']\n",
        "print(my_lst2)"
      ],
      "metadata": {
        "id": "9C89vlr0aH3T",
        "colab": {
          "base_uri": "https://localhost:8080/"
        },
        "outputId": "fdb72040-e69e-402e-fac2-5cdc791d17d9"
      },
      "execution_count": null,
      "outputs": [
        {
          "output_type": "stream",
          "name": "stdout",
          "text": [
            "[1, 2, 36, 45, 'hello']\n"
          ]
        }
      ]
    },
    {
      "cell_type": "code",
      "source": [],
      "metadata": {
        "id": "LMz37w4KVSmG"
      },
      "execution_count": null,
      "outputs": []
    },
    {
      "cell_type": "code",
      "source": [],
      "metadata": {
        "id": "YSvt48PXVa3x"
      },
      "execution_count": null,
      "outputs": []
    },
    {
      "cell_type": "markdown",
      "source": [
        "##  Some Inbuilt Functions of Lists"
      ],
      "metadata": {
        "id": "v2onw6PbaIcR"
      }
    },
    {
      "cell_type": "markdown",
      "source": [
        "### Append\n",
        "\n",
        "Append by default adds in the last index of the list\n",
        "\n",
        "*.append(\"item to add\") is used to add items in the list*"
      ],
      "metadata": {
        "id": "RvugiRQMaV3H"
      }
    },
    {
      "cell_type": "code",
      "source": [
        "my_lst.append(6)\n",
        "print(my_lst)"
      ],
      "metadata": {
        "id": "DPw8X0M1aMfm",
        "colab": {
          "base_uri": "https://localhost:8080/"
        },
        "outputId": "82d08bb9-2707-416d-f910-f0e57ee071df"
      },
      "execution_count": null,
      "outputs": [
        {
          "output_type": "stream",
          "name": "stdout",
          "text": [
            "[1, 2, 3, 4, 5, 6, 6]\n"
          ]
        }
      ]
    },
    {
      "cell_type": "code",
      "source": [],
      "metadata": {
        "id": "B8iuqx78aeZh"
      },
      "execution_count": null,
      "outputs": []
    },
    {
      "cell_type": "code",
      "source": [],
      "metadata": {
        "id": "z7-dO4XxWYwV"
      },
      "execution_count": null,
      "outputs": []
    },
    {
      "cell_type": "code",
      "source": [],
      "metadata": {
        "id": "cCGv9SB_aeW9"
      },
      "execution_count": null,
      "outputs": []
    },
    {
      "cell_type": "markdown",
      "source": [
        "\n",
        "\n",
        "---\n",
        "\n",
        "\n",
        "**Note - INDEXING IN LIST**\n",
        "\n",
        "Remember Indexes start with 0 !\n",
        "\n",
        "\n",
        "---\n",
        "\n",
        "\n",
        "**Note - Slicing**\n",
        "\n",
        "ex - lst[x,y]  here, x is the starting index (Inclusive) and y is the ending index (Exclusive)\n",
        "\n",
        "\n",
        "---\n",
        "\n"
      ],
      "metadata": {
        "id": "u2DH-IbUae1L"
      }
    },
    {
      "cell_type": "code",
      "source": [],
      "metadata": {
        "id": "ETznEJh0bdha"
      },
      "execution_count": null,
      "outputs": []
    },
    {
      "cell_type": "code",
      "source": [],
      "metadata": {
        "id": "tsI_3qiWbdWA"
      },
      "execution_count": null,
      "outputs": []
    },
    {
      "cell_type": "code",
      "source": [],
      "metadata": {
        "id": "v7WNx-a8bdPm"
      },
      "execution_count": null,
      "outputs": []
    },
    {
      "cell_type": "code",
      "source": [],
      "metadata": {
        "id": "cuyjfpv4X_by"
      },
      "execution_count": null,
      "outputs": []
    },
    {
      "cell_type": "code",
      "source": [
        "## Negative indexing"
      ],
      "metadata": {
        "id": "Yz8UESvtYaZM"
      },
      "execution_count": null,
      "outputs": []
    },
    {
      "cell_type": "markdown",
      "source": [
        "### Insert\n",
        "\n",
        "\n",
        "\n",
        "*   to add/insert in a specific order\n",
        "*   .insert( index you wanna insert at , \"data/string you wanna insert\")\n"
      ],
      "metadata": {
        "id": "awEeCnpxaw1j"
      }
    },
    {
      "cell_type": "code",
      "source": [
        "lst = [1,2,3]\n"
      ],
      "metadata": {
        "id": "UUXmtz-QMAJT"
      },
      "execution_count": null,
      "outputs": []
    },
    {
      "cell_type": "code",
      "source": [
        "lst.insert(2,\"hello\")"
      ],
      "metadata": {
        "id": "XJbs6n6VMAGG"
      },
      "execution_count": null,
      "outputs": []
    },
    {
      "cell_type": "code",
      "source": [
        "print(lst)"
      ],
      "metadata": {
        "id": "_K5ulpuKMAAl",
        "colab": {
          "base_uri": "https://localhost:8080/"
        },
        "outputId": "47200b4b-3ead-48be-9db6-9eb511c4624f"
      },
      "execution_count": null,
      "outputs": [
        {
          "output_type": "stream",
          "name": "stdout",
          "text": [
            "[1, 2, 'hello', 3]\n"
          ]
        }
      ]
    },
    {
      "cell_type": "code",
      "source": [],
      "metadata": {
        "id": "KlMgrYiFaCol"
      },
      "execution_count": null,
      "outputs": []
    },
    {
      "cell_type": "code",
      "source": [],
      "metadata": {
        "id": "gvjcfADTaKAX"
      },
      "execution_count": null,
      "outputs": []
    },
    {
      "cell_type": "markdown",
      "source": [
        "### Extend\n",
        "\n",
        "\n",
        "\n",
        "*   Unlike append method, when we try to add two elements together , we get nested list. But by using EXTEND METHOD, both the elements are added\n",
        "in the list like individual items\n"
      ],
      "metadata": {
        "id": "1bcQ2QocbuZk"
      }
    },
    {
      "cell_type": "code",
      "source": [
        "lst.append([8,9])"
      ],
      "metadata": {
        "id": "xrW6cd38b96O"
      },
      "execution_count": null,
      "outputs": []
    },
    {
      "cell_type": "code",
      "source": [
        "print(lst)"
      ],
      "metadata": {
        "id": "6ebKlDq7b-0b",
        "colab": {
          "base_uri": "https://localhost:8080/"
        },
        "outputId": "574a13e6-fcd1-48fb-940b-708f5f359284"
      },
      "execution_count": null,
      "outputs": [
        {
          "output_type": "stream",
          "name": "stdout",
          "text": [
            "[1, 2, 'hello', 3, [8, 9]]\n"
          ]
        }
      ]
    },
    {
      "cell_type": "code",
      "source": [
        "lst.extend([10,11])"
      ],
      "metadata": {
        "id": "xguZZYgkahwO"
      },
      "execution_count": null,
      "outputs": []
    },
    {
      "cell_type": "code",
      "source": [
        "print(lst)"
      ],
      "metadata": {
        "id": "GUSCF-_Haxd0",
        "colab": {
          "base_uri": "https://localhost:8080/"
        },
        "outputId": "5cbabc48-1d5c-4de6-98e3-0ceea40fc22b"
      },
      "execution_count": null,
      "outputs": [
        {
          "output_type": "stream",
          "name": "stdout",
          "text": [
            "[1, 2, 'hello', 3, [8, 9], 10, 11]\n"
          ]
        }
      ]
    },
    {
      "cell_type": "code",
      "source": [],
      "metadata": {
        "id": "Q2_f8tXPcAWZ"
      },
      "execution_count": null,
      "outputs": []
    },
    {
      "cell_type": "markdown",
      "source": [
        "### .Pop() Method\n",
        "\n",
        "By default, if no index is provided, it removes the last index item from the list"
      ],
      "metadata": {
        "id": "hYpz3r0_cBxx"
      }
    },
    {
      "cell_type": "code",
      "source": [
        "lst.pop()"
      ],
      "metadata": {
        "id": "K48cvwyucQxX",
        "colab": {
          "base_uri": "https://localhost:8080/"
        },
        "outputId": "42576110-5c37-47c5-bb78-e89fbf235dba"
      },
      "execution_count": null,
      "outputs": [
        {
          "output_type": "execute_result",
          "data": {
            "text/plain": [
              "11"
            ]
          },
          "metadata": {},
          "execution_count": 80
        }
      ]
    },
    {
      "cell_type": "code",
      "source": [
        "lst.pop(2)"
      ],
      "metadata": {
        "id": "w5LelxCgcRmc",
        "colab": {
          "base_uri": "https://localhost:8080/",
          "height": 36
        },
        "outputId": "3117c20b-0579-4c37-fea5-7fe4bc38fd97"
      },
      "execution_count": null,
      "outputs": [
        {
          "output_type": "execute_result",
          "data": {
            "text/plain": [
              "'hello'"
            ],
            "application/vnd.google.colaboratory.intrinsic+json": {
              "type": "string"
            }
          },
          "metadata": {},
          "execution_count": 81
        }
      ]
    },
    {
      "cell_type": "code",
      "source": [
        "print(lst)"
      ],
      "metadata": {
        "id": "0UPAosXKcRkY",
        "colab": {
          "base_uri": "https://localhost:8080/"
        },
        "outputId": "1b671541-2483-47ba-dd0f-9c6cc4f91c9e"
      },
      "execution_count": null,
      "outputs": [
        {
          "output_type": "stream",
          "name": "stdout",
          "text": [
            "[1, 2, 3, [8, 9], 10]\n"
          ]
        }
      ]
    },
    {
      "cell_type": "code",
      "source": [],
      "metadata": {
        "id": "goFzyd5zcSwq"
      },
      "execution_count": null,
      "outputs": []
    },
    {
      "cell_type": "code",
      "source": [
        "## .remove() function - it will remove by values\n",
        "\n"
      ],
      "metadata": {
        "id": "Cxch5W1ibdrJ"
      },
      "execution_count": null,
      "outputs": []
    },
    {
      "cell_type": "code",
      "source": [],
      "metadata": {
        "id": "bRJleBk8bkaO"
      },
      "execution_count": null,
      "outputs": []
    },
    {
      "cell_type": "code",
      "source": [],
      "metadata": {
        "id": "beqCycuubkXO"
      },
      "execution_count": null,
      "outputs": []
    },
    {
      "cell_type": "code",
      "source": [],
      "metadata": {
        "id": "VS-473pWbkQe"
      },
      "execution_count": null,
      "outputs": []
    },
    {
      "cell_type": "code",
      "source": [],
      "metadata": {
        "id": "U1AbA4DybrXN"
      },
      "execution_count": null,
      "outputs": []
    },
    {
      "cell_type": "code",
      "source": [],
      "metadata": {
        "id": "UFrbBSk6brVS"
      },
      "execution_count": null,
      "outputs": []
    },
    {
      "cell_type": "code",
      "source": [],
      "metadata": {
        "id": "X7mI5PtPrl3M"
      },
      "execution_count": null,
      "outputs": []
    },
    {
      "cell_type": "code",
      "source": [],
      "metadata": {
        "id": "gtXsnn-LrnWg"
      },
      "execution_count": null,
      "outputs": []
    },
    {
      "cell_type": "code",
      "source": [],
      "metadata": {
        "id": "lGegydmXbrMo"
      },
      "execution_count": null,
      "outputs": []
    },
    {
      "cell_type": "code",
      "source": [],
      "metadata": {
        "id": "3G_V5n0ZsMoU"
      },
      "execution_count": null,
      "outputs": []
    },
    {
      "cell_type": "code",
      "source": [],
      "metadata": {
        "id": "re_WwvjesUrX"
      },
      "execution_count": null,
      "outputs": []
    },
    {
      "cell_type": "code",
      "source": [],
      "metadata": {
        "id": "hJByL5adsXq4"
      },
      "execution_count": null,
      "outputs": []
    },
    {
      "cell_type": "markdown",
      "source": [
        "### Some Common Operations that we can perform on lists -\n",
        "\n",
        "*   **count() :** Calculates total occurence of given element of list\n",
        "*   **Len() :** calculates total length of list\n",
        "* **.index(value , start_idx , end_idx) :**  Returns the index of first occurence.\n",
        "* **min() :** Returns the minimum value of the list\n",
        "* **max() :** Returns the maximum value of the list\n"
      ],
      "metadata": {
        "id": "5cBFBvvucaIk"
      }
    },
    {
      "cell_type": "markdown",
      "source": [
        "\n",
        "\n",
        "---\n",
        "\n"
      ],
      "metadata": {
        "id": "O_ZEw1HmpjID"
      }
    },
    {
      "cell_type": "markdown",
      "source": [
        "# Sets\n",
        "\n",
        "A set is an unordered collection data type that is iterable, mutable, and has **NO DUPLICATE ELEMENTS**. Python's set class represents the mathematical notion of a set. This is based on a data structure known as HASH TABLE\n",
        "\n",
        "* Sets do not support indexing\n",
        "* **{ }** are used"
      ],
      "metadata": {
        "id": "fuqeg5XdduK_"
      }
    },
    {
      "cell_type": "code",
      "source": [
        "'''\n",
        "Defining an empty set\n",
        "\n",
        "set_var = set()\n",
        "print(set_var)\n",
        "print(type(set_var))\n",
        "'''"
      ],
      "metadata": {
        "id": "oIrckkf6dvlV"
      },
      "execution_count": null,
      "outputs": []
    },
    {
      "cell_type": "code",
      "source": [
        "my_set = {1,2,3,4}\n",
        "type(my_set)"
      ],
      "metadata": {
        "id": "82rFr7Hhd03e",
        "colab": {
          "base_uri": "https://localhost:8080/"
        },
        "outputId": "52c8a23f-ccb8-4da9-8983-fcdacaddd060"
      },
      "execution_count": null,
      "outputs": [
        {
          "output_type": "execute_result",
          "data": {
            "text/plain": [
              "set"
            ]
          },
          "metadata": {},
          "execution_count": 84
        }
      ]
    },
    {
      "cell_type": "code",
      "source": [
        "print(my_set)"
      ],
      "metadata": {
        "id": "PNVjvKMWeYt4",
        "colab": {
          "base_uri": "https://localhost:8080/"
        },
        "outputId": "ed3a0325-1cea-445b-d390-44fdfc72669c"
      },
      "execution_count": null,
      "outputs": [
        {
          "output_type": "stream",
          "name": "stdout",
          "text": [
            "{1, 2, 3, 4}\n"
          ]
        }
      ]
    },
    {
      "cell_type": "code",
      "source": [
        "st = {11,11,2,3,5,2,3,11}"
      ],
      "metadata": {
        "id": "Jzp_34GDd01K"
      },
      "execution_count": null,
      "outputs": []
    },
    {
      "cell_type": "code",
      "source": [
        "print(st)"
      ],
      "metadata": {
        "id": "_jc-JSgHdOXL",
        "colab": {
          "base_uri": "https://localhost:8080/"
        },
        "outputId": "6bcfd238-0fce-4824-e1db-8e3c72a7a593"
      },
      "execution_count": null,
      "outputs": [
        {
          "output_type": "stream",
          "name": "stdout",
          "text": [
            "{11, 2, 3, 5}\n"
          ]
        }
      ]
    },
    {
      "cell_type": "markdown",
      "source": [
        "**Deletion from sets**"
      ],
      "metadata": {
        "id": "kxaReAwHfwoR"
      }
    },
    {
      "cell_type": "code",
      "source": [
        "st.remove(6)"
      ],
      "metadata": {
        "id": "116Ev1WidOVU",
        "colab": {
          "base_uri": "https://localhost:8080/",
          "height": 141
        },
        "outputId": "01a29beb-da83-4251-bc87-6e18f0bf03a7"
      },
      "execution_count": null,
      "outputs": [
        {
          "output_type": "error",
          "ename": "KeyError",
          "evalue": "6",
          "traceback": [
            "\u001b[0;31m---------------------------------------------------------------------------\u001b[0m",
            "\u001b[0;31mKeyError\u001b[0m                                  Traceback (most recent call last)",
            "\u001b[0;32m<ipython-input-88-0c84baac194d>\u001b[0m in \u001b[0;36m<cell line: 0>\u001b[0;34m()\u001b[0m\n\u001b[0;32m----> 1\u001b[0;31m \u001b[0mst\u001b[0m\u001b[0;34m.\u001b[0m\u001b[0mremove\u001b[0m\u001b[0;34m(\u001b[0m\u001b[0;36m6\u001b[0m\u001b[0;34m)\u001b[0m\u001b[0;34m\u001b[0m\u001b[0;34m\u001b[0m\u001b[0m\n\u001b[0m",
            "\u001b[0;31mKeyError\u001b[0m: 6"
          ]
        }
      ]
    },
    {
      "cell_type": "markdown",
      "source": [
        "## Note -\n",
        "\n",
        "- .remove()  -> it will give a error if the thing is not present\n",
        "-.discard()  -> it will not give any error if the thing is not present"
      ],
      "metadata": {
        "id": "rPUGEnrLppM8"
      }
    },
    {
      "cell_type": "code",
      "source": [],
      "metadata": {
        "id": "oSDycvytdOTY"
      },
      "execution_count": null,
      "outputs": []
    },
    {
      "cell_type": "code",
      "source": [],
      "metadata": {
        "id": "WhwXTfsYgpdf"
      },
      "execution_count": null,
      "outputs": []
    },
    {
      "cell_type": "code",
      "source": [],
      "metadata": {
        "id": "bw1USdypdORP"
      },
      "execution_count": null,
      "outputs": []
    },
    {
      "cell_type": "markdown",
      "source": [
        "### Inbuilt Functions in Sets\n",
        "\n",
        "*   .add()\n",
        "*   .difference()\n",
        "* .intersection()\n"
      ],
      "metadata": {
        "id": "8jh04VKYfFA0"
      }
    },
    {
      "cell_type": "code",
      "source": [],
      "metadata": {
        "id": "orAoO55rfqMY"
      },
      "execution_count": null,
      "outputs": []
    },
    {
      "cell_type": "code",
      "source": [],
      "metadata": {
        "id": "iN_EzO0SfqJU"
      },
      "execution_count": null,
      "outputs": []
    },
    {
      "cell_type": "code",
      "source": [
        "y_subjects={\"ed\",\"electronics\",\"Environment\"}"
      ],
      "metadata": {
        "id": "vpG40xbldh6D"
      },
      "execution_count": null,
      "outputs": []
    },
    {
      "cell_type": "code",
      "source": [
        "m_subjects={\"chemistry\", \"physics\",\"Environment\"}"
      ],
      "metadata": {
        "id": "e-F_e75QeKl3"
      },
      "execution_count": null,
      "outputs": []
    },
    {
      "cell_type": "code",
      "source": [
        "m_subjects.difference(y_subjects)"
      ],
      "metadata": {
        "id": "QzpLrTzFeTRB",
        "colab": {
          "base_uri": "https://localhost:8080/"
        },
        "outputId": "15ec9adc-6a16-4bea-c0d9-e558b96a93d3"
      },
      "execution_count": null,
      "outputs": [
        {
          "output_type": "execute_result",
          "data": {
            "text/plain": [
              "{'chemistry', 'physics'}"
            ]
          },
          "metadata": {},
          "execution_count": 91
        }
      ]
    },
    {
      "cell_type": "code",
      "source": [
        "y_subjects.difference(m_subjects)"
      ],
      "metadata": {
        "id": "T1ADv2jMejOp"
      },
      "execution_count": null,
      "outputs": []
    },
    {
      "cell_type": "code",
      "source": [
        "y_subjects.intersection(m_subjects)"
      ],
      "metadata": {
        "id": "scbKH9RPe4Nh",
        "colab": {
          "base_uri": "https://localhost:8080/"
        },
        "outputId": "70f08c7b-bf6f-40c1-df8a-d7c443fa7bb0"
      },
      "execution_count": null,
      "outputs": [
        {
          "output_type": "execute_result",
          "data": {
            "text/plain": [
              "{'Environment'}"
            ]
          },
          "metadata": {},
          "execution_count": 92
        }
      ]
    },
    {
      "cell_type": "code",
      "source": [],
      "metadata": {
        "id": "FNYRlZHffqBo"
      },
      "execution_count": null,
      "outputs": []
    },
    {
      "cell_type": "markdown",
      "source": [
        "**Explore Yourself -**\n",
        "\n",
        "*   Difference update\n",
        "*   Intersection update"
      ],
      "metadata": {
        "id": "HZWiGnDqf2VK"
      }
    },
    {
      "cell_type": "markdown",
      "source": [
        "# Dictionaries\n",
        "\n",
        "A dictionary is a collection which is unordered, changeable and indexed. In Python dictionaries are written with **curly brackets**, and they have keys and values.\n",
        "\n",
        "*   Indexing is possible in Dictionaries and here index is the keys or key names\n",
        "\n",
        "\n"
      ],
      "metadata": {
        "id": "ClHlZl1RgBBf"
      }
    },
    {
      "cell_type": "code",
      "source": [
        "# key , value\n",
        "\n",
        "my_dict={\"key\": \"value\" , \"key\":\"value\", \"key\":\"value\"}"
      ],
      "metadata": {
        "id": "GeUVi3Ywgbhi"
      },
      "execution_count": null,
      "outputs": []
    },
    {
      "cell_type": "code",
      "source": [
        "car = {\"car1\": \"Mercedes\", \"car2\": \"BMW\", \"car3\": \"Volvo\"}"
      ],
      "metadata": {
        "id": "bg2Xp1Xamlqn"
      },
      "execution_count": null,
      "outputs": []
    },
    {
      "cell_type": "code",
      "source": [
        "type(car)"
      ],
      "metadata": {
        "id": "QX3DW2Jpmlla",
        "colab": {
          "base_uri": "https://localhost:8080/"
        },
        "outputId": "caecd08f-d5ea-44fb-ad60-468a4ed6206d"
      },
      "execution_count": null,
      "outputs": [
        {
          "output_type": "execute_result",
          "data": {
            "text/plain": [
              "dict"
            ]
          },
          "metadata": {},
          "execution_count": 94
        }
      ]
    },
    {
      "cell_type": "code",
      "source": [
        "print(car[\"car1\"])"
      ],
      "metadata": {
        "id": "5PGHQAyBmlen",
        "colab": {
          "base_uri": "https://localhost:8080/"
        },
        "outputId": "080fa9e2-65ce-4916-a3aa-6e55b2840b48"
      },
      "execution_count": null,
      "outputs": [
        {
          "output_type": "stream",
          "name": "stdout",
          "text": [
            "Volvo\n"
          ]
        }
      ]
    },
    {
      "cell_type": "markdown",
      "source": [
        "**Note - We can loop through the dictionary's keys**"
      ],
      "metadata": {
        "id": "Q1-zZspMmmIg"
      }
    },
    {
      "cell_type": "code",
      "source": [
        "for x in car.items[x]:\n",
        "  print(x)"
      ],
      "metadata": {
        "id": "XHy60xbqmwze",
        "colab": {
          "base_uri": "https://localhost:8080/",
          "height": 158
        },
        "outputId": "3977de50-7137-4feb-887a-ec9356f58963"
      },
      "execution_count": null,
      "outputs": [
        {
          "output_type": "error",
          "ename": "TypeError",
          "evalue": "'builtin_function_or_method' object is not subscriptable",
          "traceback": [
            "\u001b[0;31m---------------------------------------------------------------------------\u001b[0m",
            "\u001b[0;31mTypeError\u001b[0m                                 Traceback (most recent call last)",
            "\u001b[0;32m<ipython-input-98-fb102b3b5c40>\u001b[0m in \u001b[0;36m<cell line: 0>\u001b[0;34m()\u001b[0m\n\u001b[0;32m----> 1\u001b[0;31m \u001b[0;32mfor\u001b[0m \u001b[0mx\u001b[0m \u001b[0;32min\u001b[0m \u001b[0mcar\u001b[0m\u001b[0;34m.\u001b[0m\u001b[0mitems\u001b[0m\u001b[0;34m[\u001b[0m\u001b[0mx\u001b[0m\u001b[0;34m]\u001b[0m\u001b[0;34m:\u001b[0m\u001b[0;34m\u001b[0m\u001b[0;34m\u001b[0m\u001b[0m\n\u001b[0m\u001b[1;32m      2\u001b[0m   \u001b[0mprint\u001b[0m\u001b[0;34m(\u001b[0m\u001b[0mx\u001b[0m\u001b[0;34m)\u001b[0m\u001b[0;34m\u001b[0m\u001b[0;34m\u001b[0m\u001b[0m\n",
            "\u001b[0;31mTypeError\u001b[0m: 'builtin_function_or_method' object is not subscriptable"
          ]
        }
      ]
    },
    {
      "cell_type": "code",
      "source": [],
      "metadata": {
        "id": "qicr0xuCm8fV"
      },
      "execution_count": null,
      "outputs": []
    },
    {
      "cell_type": "markdown",
      "source": [
        "\n",
        "\n",
        "---\n",
        "\n"
      ],
      "metadata": {
        "id": "5fyDUCfMpyUr"
      }
    },
    {
      "cell_type": "markdown",
      "source": [
        "## Overwriting Keys\n",
        "**Note - We can overwrite a key with a new value by appending a new value to that key**\n",
        "\n",
        "*for ex - my_dict['car1'] = 'Ignis'*"
      ],
      "metadata": {
        "id": "Ehi2OOhJm85G"
      }
    },
    {
      "cell_type": "code",
      "source": [
        "#my_dict['key'] = 'new value'"
      ],
      "metadata": {
        "id": "qcpvFXENnEuH"
      },
      "execution_count": null,
      "outputs": []
    },
    {
      "cell_type": "markdown",
      "source": [
        "# Nested Dictionary - IMPORTANT"
      ],
      "metadata": {
        "id": "L7DUJ_d_nSdj"
      }
    },
    {
      "cell_type": "code",
      "source": [
        "car1_model = {\"Mercedes\":1980, \"BMW\": 2020}\n",
        "car2_model = {\"Volvo\":1990}\n",
        "car3_model = {\"Rolls\":2023}"
      ],
      "metadata": {
        "id": "VWsTvPisnUgG"
      },
      "execution_count": null,
      "outputs": []
    },
    {
      "cell_type": "code",
      "source": [
        "car_type = {'car1': car1_model , 'car2': car2_model , 'car3':car3_model}"
      ],
      "metadata": {
        "id": "pk1wfwEUnWd5"
      },
      "execution_count": null,
      "outputs": []
    },
    {
      "cell_type": "code",
      "source": [
        "print(car_type['car1'])"
      ],
      "metadata": {
        "id": "D0qsxAs8nWbO",
        "colab": {
          "base_uri": "https://localhost:8080/"
        },
        "outputId": "929dcf45-4423-4ad8-b473-6c4978caa8c5"
      },
      "execution_count": null,
      "outputs": [
        {
          "output_type": "stream",
          "name": "stdout",
          "text": [
            "{'Mercedes': 1980, 'BMW': 2020}\n"
          ]
        }
      ]
    },
    {
      "cell_type": "code",
      "source": [
        "print(car_type['car3'])"
      ],
      "metadata": {
        "id": "fg2MbCb3naJL",
        "colab": {
          "base_uri": "https://localhost:8080/"
        },
        "outputId": "20bf4d8a-3af0-46c4-efc0-d61a206656da"
      },
      "execution_count": null,
      "outputs": [
        {
          "output_type": "stream",
          "name": "stdout",
          "text": [
            "{'Rolls': 2023}\n"
          ]
        }
      ]
    },
    {
      "cell_type": "markdown",
      "source": [
        "# Tuples\n",
        "\n",
        "Tuple is **NON MUTABLE** i.e. once you have defined a tuple, you cannot change the elements of a tuple\n",
        "\n",
        "**Indexing is possible in tuples**\n",
        "\n",
        "**( ) is used**\n",
        "\n",
        "**indexing starts from 0**"
      ],
      "metadata": {
        "id": "_cG6k4PwnaZq"
      }
    },
    {
      "cell_type": "code",
      "source": [
        "my_tuple= (1,2,3,4)"
      ],
      "metadata": {
        "id": "AbdGOfBRqfYT"
      },
      "execution_count": null,
      "outputs": []
    },
    {
      "cell_type": "code",
      "source": [
        "print(my_tuple)"
      ],
      "metadata": {
        "id": "ZxCMpWqjqsRs",
        "colab": {
          "base_uri": "https://localhost:8080/"
        },
        "outputId": "b7651ff0-1532-44f8-9a6b-b671f15fae8d"
      },
      "execution_count": null,
      "outputs": [
        {
          "output_type": "stream",
          "name": "stdout",
          "text": [
            "(1, 2, 3, 4)\n"
          ]
        }
      ]
    },
    {
      "cell_type": "code",
      "source": [
        "type(my_tuple)"
      ],
      "metadata": {
        "id": "_EslfOCoqsNG",
        "colab": {
          "base_uri": "https://localhost:8080/"
        },
        "outputId": "5e4869a6-1d41-4fec-8d8f-d9fc958fd6fd"
      },
      "execution_count": null,
      "outputs": [
        {
          "output_type": "execute_result",
          "data": {
            "text/plain": [
              "tuple"
            ]
          },
          "metadata": {},
          "execution_count": 105
        }
      ]
    },
    {
      "cell_type": "markdown",
      "source": [
        "**Note - Indexing is possible in TUPLES and index starts from 0**"
      ],
      "metadata": {
        "id": "imHgXuAsqfun"
      }
    },
    {
      "cell_type": "markdown",
      "source": [
        "**IMPORTANT NOTE - WE CANNOT CHANGE AN ITEM IN A TUPLE AS TUPLES ARE UN-MUTABLE( does not support item assignment) . HOWEVER, WE CAN CHANGE/REPLACE THE ENTIRE TUPLE.**"
      ],
      "metadata": {
        "id": "KDAdmlU8qzWd"
      }
    },
    {
      "cell_type": "code",
      "source": [
        "my_tu = (1,2,3,4, 2 , 3)"
      ],
      "metadata": {
        "id": "gK0cup47q9S1"
      },
      "execution_count": null,
      "outputs": []
    },
    {
      "cell_type": "markdown",
      "source": [
        "## INBUILT FUNCTIONS OF TUPLES\n",
        "\n",
        "\n",
        "* .count() -> return me the no. of occurences of a item/thing\n",
        "* .index() -> returns me the index of the first occurence of an item in a tuple\n",
        "\n"
      ],
      "metadata": {
        "id": "bDai_yUfrIEq"
      }
    },
    {
      "cell_type": "code",
      "source": [
        "my_tuple.count(7)"
      ],
      "metadata": {
        "id": "0oCrXMTEpBxs",
        "colab": {
          "base_uri": "https://localhost:8080/"
        },
        "outputId": "a1a54e51-5bcf-4441-fe55-69a210e2ee98"
      },
      "execution_count": null,
      "outputs": [
        {
          "output_type": "execute_result",
          "data": {
            "text/plain": [
              "0"
            ]
          },
          "metadata": {},
          "execution_count": 107
        }
      ]
    },
    {
      "cell_type": "code",
      "source": [
        "my_tu.index(3)"
      ],
      "metadata": {
        "id": "0hE4DSEjpaja",
        "colab": {
          "base_uri": "https://localhost:8080/"
        },
        "outputId": "9aa25bb8-8e82-4542-f25c-9ff5cdbc80e4"
      },
      "execution_count": null,
      "outputs": [
        {
          "output_type": "execute_result",
          "data": {
            "text/plain": [
              "2"
            ]
          },
          "metadata": {},
          "execution_count": 112
        }
      ]
    },
    {
      "cell_type": "code",
      "source": [],
      "metadata": {
        "id": "v6EDZ0-5pjPy"
      },
      "execution_count": null,
      "outputs": []
    },
    {
      "cell_type": "markdown",
      "source": [
        "# Lambda function\n",
        "\n",
        "* lambda is just a mini anonymous function\n",
        "* lambda arguments: expression"
      ],
      "metadata": {
        "id": "-Sb0goi2ld29"
      }
    },
    {
      "cell_type": "code",
      "source": [
        "def square(x):\n",
        "    return x **2\n",
        "\n",
        "print(square(4))  # Output: 16\n",
        "lambda x: x**2\n",
        "lambda x,y: x+y"
      ],
      "metadata": {
        "id": "NoTEHtOvmOS1"
      },
      "execution_count": null,
      "outputs": []
    },
    {
      "cell_type": "code",
      "source": [
        "add = lambda x, y: x + y\n",
        "print(add(3, 5))  # Output: 8"
      ],
      "metadata": {
        "id": "cQ26IlBmmUMv",
        "colab": {
          "base_uri": "https://localhost:8080/"
        },
        "outputId": "52652383-75ad-4290-e7db-9a4bd3d2b4d5"
      },
      "execution_count": null,
      "outputs": [
        {
          "output_type": "stream",
          "name": "stdout",
          "text": [
            "8\n"
          ]
        }
      ]
    },
    {
      "cell_type": "code",
      "source": [
        "# Square a number using lambda\n",
        "square = lambda x: x ** 2\n",
        "print(\"5 squared:\", square(5))"
      ],
      "metadata": {
        "id": "3egaW2mWlhDk",
        "colab": {
          "base_uri": "https://localhost:8080/"
        },
        "outputId": "fd8a7e49-acfb-45c2-9e16-679fdad3d7a6"
      },
      "execution_count": null,
      "outputs": [
        {
          "output_type": "stream",
          "name": "stdout",
          "text": [
            "5 squared: 25\n"
          ]
        }
      ]
    },
    {
      "cell_type": "code",
      "source": [
        "nums = [1, 2, 3, 4]\n",
        "# list(map(lambda x: x**2,nums))\n",
        "squares = list(map(lambda x : x**2,nums))\n",
        "print(squares)\n",
        "\n",
        "list(map(lambda x: x**3,nums))"
      ],
      "metadata": {
        "id": "EGUjJevBlg74",
        "colab": {
          "base_uri": "https://localhost:8080/"
        },
        "outputId": "64b19266-8710-491b-ce8f-43862ac8c557"
      },
      "execution_count": null,
      "outputs": [
        {
          "output_type": "stream",
          "name": "stdout",
          "text": [
            "[1, 4, 9, 16]\n"
          ]
        }
      ]
    },
    {
      "cell_type": "code",
      "source": [
        "cube = list(map(lambda x: x ** 3,nums))\n",
        "print(cube(0)  )"
      ],
      "metadata": {
        "id": "dScUBaxFlg4l"
      },
      "execution_count": null,
      "outputs": []
    },
    {
      "cell_type": "markdown",
      "source": [],
      "metadata": {
        "id": "tupvKTGFlwjX"
      }
    },
    {
      "cell_type": "markdown",
      "source": [
        "\n",
        "\n",
        "---\n",
        "\n",
        "\n",
        "\n",
        "---\n",
        "\n"
      ],
      "metadata": {
        "id": "sY8BEVBhqmpR"
      }
    }
  ]
}