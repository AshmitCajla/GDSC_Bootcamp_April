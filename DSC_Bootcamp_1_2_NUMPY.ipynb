{
  "nbformat": 4,
  "nbformat_minor": 0,
  "metadata": {
    "colab": {
      "provenance": []
    },
    "kernelspec": {
      "name": "python3",
      "display_name": "Python 3"
    },
    "language_info": {
      "name": "python"
    }
  },
  "cells": [
    {
      "cell_type": "markdown",
      "source": [
        "# DSC ML BOOTCAMP\n",
        "\n",
        "### DAY 1-2\n",
        "- Basic Python for ML\n",
        "- Numpy\n",
        "- Pandas\n",
        "- Shutil\n"
      ],
      "metadata": {
        "id": "pkLljjsF4fLK"
      }
    },
    {
      "cell_type": "markdown",
      "source": [
        "\n",
        "\n",
        "---\n",
        "\n",
        "\n",
        "\n",
        "---\n",
        "\n",
        "# NumPy\n",
        "\n",
        "* **Numpy is a general-purpose array processing package. It is the fundamental package for scientific computing using python**\n",
        "\n",
        "* **It supports large, multi-dimensional arrays and matrices, along with a wide collection of mathematical functions to operate on these arrays.**\n",
        "\n",
        "\n",
        "🤔 Guess what NumPy stands for ?"
      ],
      "metadata": {
        "id": "Ujc6WG3248uh"
      }
    },
    {
      "cell_type": "markdown",
      "source": [
        "### What is an array ?\n",
        "\n",
        "* An array is a data structure that stores values of same data type. In Python, this is the main difference between arrays and lists. While python lists can contain values corresponding to different data types, arrays in python can only contain values corresponding to same data type."
      ],
      "metadata": {
        "id": "jk79Apzb69o6"
      }
    },
    {
      "cell_type": "code",
      "execution_count": null,
      "metadata": {
        "colab": {
          "base_uri": "https://localhost:8080/"
        },
        "id": "ZoULXoo94Q1H",
        "outputId": "5cc29af5-f72d-44e7-a1e3-6aa60cb6a426"
      },
      "outputs": [
        {
          "output_type": "stream",
          "name": "stdout",
          "text": [
            "NumPy is ready to use\n"
          ]
        }
      ],
      "source": [
        "import numpy as np\n",
        "print(\"NumPy is ready to use\")"
      ]
    },
    {
      "cell_type": "markdown",
      "source": [
        "### Creating my first array in Python 🐍\n",
        "\n",
        "np.array()"
      ],
      "metadata": {
        "id": "Jheg-pmE7vWo"
      }
    },
    {
      "cell_type": "code",
      "source": [
        "#creating array using lists\n",
        "lst = [1,2,3,4,5]\n",
        "\n",
        "\n",
        "\n",
        "\n",
        "# I can either make a list and then use the name of the list or can create in a single line\n",
        "b = np.array([1,2,3,4,5])\n"
      ],
      "metadata": {
        "id": "RwyAlIzH7thQ"
      },
      "execution_count": null,
      "outputs": []
    },
    {
      "cell_type": "code",
      "source": [
        "print(b)"
      ],
      "metadata": {
        "colab": {
          "base_uri": "https://localhost:8080/"
        },
        "id": "G7lzNyC50-hI",
        "outputId": "4dbb5df4-8d41-4589-84c0-93b804ddb3ac"
      },
      "execution_count": null,
      "outputs": [
        {
          "output_type": "stream",
          "name": "stdout",
          "text": [
            "[1 2 3 4 5]\n"
          ]
        }
      ]
    },
    {
      "cell_type": "code",
      "source": [
        "type(b)"
      ],
      "metadata": {
        "colab": {
          "base_uri": "https://localhost:8080/"
        },
        "id": "OgOM38Ua1FLw",
        "outputId": "a6cd8388-386b-4e94-cb24-b469488e27ed"
      },
      "execution_count": null,
      "outputs": [
        {
          "output_type": "execute_result",
          "data": {
            "text/plain": [
              "numpy.ndarray"
            ]
          },
          "metadata": {},
          "execution_count": 39
        }
      ]
    },
    {
      "cell_type": "code",
      "source": [
        "a = np.array(lst)\n",
        "print(a)"
      ],
      "metadata": {
        "colab": {
          "base_uri": "https://localhost:8080/"
        },
        "id": "OZye69JQ8JmT",
        "outputId": "8ae50a06-0521-4801-caf9-193086f09933"
      },
      "execution_count": null,
      "outputs": [
        {
          "output_type": "stream",
          "name": "stdout",
          "text": [
            "[1 2 3 4 5]\n"
          ]
        }
      ]
    },
    {
      "cell_type": "code",
      "source": [
        "print(b)"
      ],
      "metadata": {
        "colab": {
          "base_uri": "https://localhost:8080/"
        },
        "id": "-Gg4vw-D8icM",
        "outputId": "e8768f30-9a84-4cf5-9e8e-27eb1187bf74"
      },
      "execution_count": null,
      "outputs": [
        {
          "output_type": "stream",
          "name": "stdout",
          "text": [
            "[1 2 3 4 5]\n"
          ]
        }
      ]
    },
    {
      "cell_type": "code",
      "source": [
        "# in python we can verify the type of my entity using type function (inbuilt)\n",
        "\n",
        "type(a)"
      ],
      "metadata": {
        "id": "1Y6akHKK7tbh"
      },
      "execution_count": null,
      "outputs": []
    },
    {
      "cell_type": "code",
      "source": [
        "# Array of strings\n",
        "\n",
        "str_arr = np.array([\"akarsh\", 'aryan', 'gitesh','tikshan'])\n",
        "\n",
        "print(str_arr)"
      ],
      "metadata": {
        "id": "SmE6B1Vk7tZW",
        "colab": {
          "base_uri": "https://localhost:8080/"
        },
        "outputId": "f1b3bca3-db41-4b07-c494-e24a1a1457fd"
      },
      "execution_count": null,
      "outputs": [
        {
          "output_type": "stream",
          "name": "stdout",
          "text": [
            "['akarsh' 'aryan' 'gitesh' 'tikshan']\n"
          ]
        }
      ]
    },
    {
      "cell_type": "markdown",
      "source": [
        "## Arrays as we know are of 2 types -\n",
        " * 1D Arrays\n",
        " * 2D Arrays (Multidimensional Arrays)\n"
      ],
      "metadata": {
        "id": "Ig878skl9mkg"
      }
    },
    {
      "cell_type": "markdown",
      "source": [
        "#### To see if my array is 1D or 2 D,\n",
        "\n",
        "*  .ndim function -> returns no. of dimension of the array\n",
        "*  .shape function -> returns a tuple representing the dimension of the array in the form (m*n)\n",
        "\n"
      ],
      "metadata": {
        "id": "VKU3M-tX_CTT"
      }
    },
    {
      "cell_type": "code",
      "source": [
        "a.shape"
      ],
      "metadata": {
        "id": "LrenpieP7tXR",
        "colab": {
          "base_uri": "https://localhost:8080/"
        },
        "outputId": "4496d877-a6f4-422a-aab6-47acd1357566"
      },
      "execution_count": null,
      "outputs": [
        {
          "output_type": "execute_result",
          "data": {
            "text/plain": [
              "(5,)"
            ]
          },
          "metadata": {},
          "execution_count": 12
        }
      ]
    },
    {
      "cell_type": "markdown",
      "source": [
        "#### Some Useful Array Attributes\n",
        "\n",
        "* .dtype -> returns the data type of the array contents\n",
        "* .size() -> returns the total number of elements in the array"
      ],
      "metadata": {
        "id": "x2-AjorzAIn5"
      }
    },
    {
      "cell_type": "code",
      "source": [
        "arr.dtype"
      ],
      "metadata": {
        "id": "b6HgKgf47tOX",
        "colab": {
          "base_uri": "https://localhost:8080/"
        },
        "outputId": "5e21c1b9-c651-4886-9dad-212a76ae86de"
      },
      "execution_count": null,
      "outputs": [
        {
          "output_type": "execute_result",
          "data": {
            "text/plain": [
              "dtype('int64')"
            ]
          },
          "metadata": {},
          "execution_count": 17
        }
      ]
    },
    {
      "cell_type": "code",
      "source": [
        "str_arr.dtype"
      ],
      "metadata": {
        "id": "XkM754w-A5J1",
        "colab": {
          "base_uri": "https://localhost:8080/"
        },
        "outputId": "d8ec0793-44fb-4f3e-b750-c5fe43101e17"
      },
      "execution_count": null,
      "outputs": [
        {
          "output_type": "execute_result",
          "data": {
            "text/plain": [
              "dtype('<U7')"
            ]
          },
          "metadata": {},
          "execution_count": 18
        }
      ]
    },
    {
      "cell_type": "code",
      "source": [
        "arr.size"
      ],
      "metadata": {
        "id": "Slb_UF41BCYm",
        "colab": {
          "base_uri": "https://localhost:8080/"
        },
        "outputId": "fc9f8d7c-fb36-461f-a4c7-b370d813bab6"
      },
      "execution_count": null,
      "outputs": [
        {
          "output_type": "execute_result",
          "data": {
            "text/plain": [
              "15"
            ]
          },
          "metadata": {},
          "execution_count": 20
        }
      ]
    },
    {
      "cell_type": "markdown",
      "source": [
        "## Creating 2D Arrays or Multinested Arrays\n"
      ],
      "metadata": {
        "id": "I8ZeQvyJBbeH"
      }
    },
    {
      "cell_type": "code",
      "source": [
        "# we can first make multiple lists and then can use them or can do it in a single line of code\n",
        "\n",
        "arr  = np.array([[1,2,3,4,5],[6,7,8,9,10],[11,12,13,14,15]])"
      ],
      "metadata": {
        "id": "7b30MDLmBkNQ"
      },
      "execution_count": null,
      "outputs": []
    },
    {
      "cell_type": "code",
      "source": [
        "print(arr)\n",
        "s"
      ],
      "metadata": {
        "id": "v5EML6CKCILa",
        "colab": {
          "base_uri": "https://localhost:8080/"
        },
        "outputId": "de87be6e-4a9a-49cf-b311-05ea34b9f0f3"
      },
      "execution_count": null,
      "outputs": [
        {
          "output_type": "stream",
          "name": "stdout",
          "text": [
            "[[ 1  2  3  4  5]\n",
            " [ 6  7  8  9 10]\n",
            " [11 12 13 14 15]]\n"
          ]
        }
      ]
    },
    {
      "cell_type": "code",
      "source": [
        "arr.shape"
      ],
      "metadata": {
        "colab": {
          "base_uri": "https://localhost:8080/"
        },
        "id": "gXG3aztE1ttW",
        "outputId": "85615a6b-361a-45cc-b923-b50e47689282"
      },
      "execution_count": null,
      "outputs": [
        {
          "output_type": "execute_result",
          "data": {
            "text/plain": [
              "(3, 5)"
            ]
          },
          "metadata": {},
          "execution_count": 43
        }
      ]
    },
    {
      "cell_type": "code",
      "source": [
        "# Now if i run my .size , .ndim ,  .shape functions....\n",
        "arr.shape"
      ],
      "metadata": {
        "id": "pDjwtZrKCuD8",
        "colab": {
          "base_uri": "https://localhost:8080/"
        },
        "outputId": "943c6c56-97e6-42b9-f6cd-729048135b45"
      },
      "execution_count": null,
      "outputs": [
        {
          "output_type": "execute_result",
          "data": {
            "text/plain": [
              "(3, 5)"
            ]
          },
          "metadata": {},
          "execution_count": 15
        }
      ]
    },
    {
      "cell_type": "code",
      "source": [
        "arr.ndim"
      ],
      "metadata": {
        "colab": {
          "base_uri": "https://localhost:8080/"
        },
        "id": "y0_HJ3Az-Uar",
        "outputId": "edff9305-ebba-4599-8ee5-2eb92339218f"
      },
      "execution_count": null,
      "outputs": [
        {
          "output_type": "execute_result",
          "data": {
            "text/plain": [
              "2"
            ]
          },
          "metadata": {},
          "execution_count": 16
        }
      ]
    },
    {
      "cell_type": "markdown",
      "source": [
        "\n",
        "\n",
        "---\n",
        "## *So far we have learnt...*\n",
        "* making a 1D array\n",
        "* making a 2D array\n",
        "* Running some basic attribute checks\n",
        "\n",
        "\n",
        "---\n",
        "\n",
        "\n"
      ],
      "metadata": {
        "id": "_ll8EVKuDTPc"
      }
    },
    {
      "cell_type": "markdown",
      "source": [
        "## Array Initialization Techniques\n",
        "\n",
        "* np.zeros((m,n))\n",
        "* np.ones((m,n))\n",
        "* np.arange(start,stop(Exclusive),step_size) ->create a 1d array with values in a specified range and step size.\n",
        "* np.linspace(start,stop(inclusive),no._of_points) ->Creates a 1D array with evenly spaced values between two endpoints"
      ],
      "metadata": {
        "id": "8ueGR9PSEEgN"
      }
    },
    {
      "cell_type": "markdown",
      "source": [
        "## Note -\n",
        "\n",
        "*  By default, np.zeros creates an array with float data type. If we want we can specify, dtype=int\n",
        "*  .arange and .linspace will make a 1d array by default but if we want a 2d array we can use the reshape function."
      ],
      "metadata": {
        "id": "pb1uqB_eUM6p"
      }
    },
    {
      "cell_type": "code",
      "source": [
        "z_arr = np.zeros((3,3), dtype=int)"
      ],
      "metadata": {
        "id": "9HYzuzzMHTue"
      },
      "execution_count": null,
      "outputs": []
    },
    {
      "cell_type": "code",
      "source": [
        "print(z_arr)"
      ],
      "metadata": {
        "colab": {
          "base_uri": "https://localhost:8080/"
        },
        "id": "gz3u2E9z2F4b",
        "outputId": "c96b66d0-7cd3-4728-ee38-3b85c94a4789"
      },
      "execution_count": null,
      "outputs": [
        {
          "output_type": "stream",
          "name": "stdout",
          "text": [
            "[[0 0 0]\n",
            " [0 0 0]\n",
            " [0 0 0]]\n"
          ]
        }
      ]
    },
    {
      "cell_type": "code",
      "source": [
        "o_arr = np.ones((3,3))"
      ],
      "metadata": {
        "id": "NlpXoZ8RktwK"
      },
      "execution_count": null,
      "outputs": []
    },
    {
      "cell_type": "code",
      "source": [
        "c = np.arange(10,21,1)\n",
        "print(c)"
      ],
      "metadata": {
        "colab": {
          "base_uri": "https://localhost:8080/"
        },
        "id": "iBDYLBBc_yNs",
        "outputId": "b55066a5-faba-48ff-9800-1ac46b0c8cc5"
      },
      "execution_count": null,
      "outputs": [
        {
          "output_type": "stream",
          "name": "stdout",
          "text": [
            "[10 11 12 13 14 15 16 17 18 19 20]\n"
          ]
        }
      ]
    },
    {
      "cell_type": "code",
      "source": [
        "d  = np.linspace(10,19, 10 )\n",
        "print(d)"
      ],
      "metadata": {
        "colab": {
          "base_uri": "https://localhost:8080/"
        },
        "id": "jN-6CZkEAOzv",
        "outputId": "13500f24-21b1-4117-b051-92002f6f5678"
      },
      "execution_count": null,
      "outputs": [
        {
          "output_type": "stream",
          "name": "stdout",
          "text": [
            "[10. 11. 12. 13. 14. 15. 16. 17. 18. 19.]\n"
          ]
        }
      ]
    },
    {
      "cell_type": "markdown",
      "source": [
        "## Element Wise Operations\n",
        "- We can perform operations like addition , subtraction and multiplication etc between arrays\n",
        "\n"
      ],
      "metadata": {
        "id": "4NDHqTyrI4bU"
      }
    },
    {
      "cell_type": "code",
      "source": [
        "x = np.array([1,2,3,4,5])\n",
        "y = np.array([6,7,8,9,10])"
      ],
      "metadata": {
        "id": "n786jslEJLpw"
      },
      "execution_count": null,
      "outputs": []
    },
    {
      "cell_type": "code",
      "source": [
        "print(\"Addition: \",x+y)\n",
        "print(\"Subtraction: \", abs(x-y))\n",
        "print(\"Multiplication: \",x*y)\n",
        "print(\"Division: \",x/y)\n",
        "print(\"Power: \",x**2)"
      ],
      "metadata": {
        "id": "g74T6VUXJgvX",
        "colab": {
          "base_uri": "https://localhost:8080/"
        },
        "outputId": "880bb66a-f84e-456d-d700-0d9e5f55f901"
      },
      "execution_count": null,
      "outputs": [
        {
          "output_type": "stream",
          "name": "stdout",
          "text": [
            "Addition:  [ 7  9 11 13 15]\n",
            "Subtraction:  [5 5 5 5 5]\n",
            "Multiplication:  [ 6 14 24 36 50]\n",
            "Division:  [0.16666667 0.28571429 0.375      0.44444444 0.5       ]\n",
            "Power:  [ 1  4  9 16 25]\n"
          ]
        }
      ]
    },
    {
      "cell_type": "markdown",
      "source": [
        "\n",
        "\n",
        "---\n",
        "\n",
        "\n",
        "\n",
        "---\n",
        "\n",
        "\n",
        "\n",
        "---\n",
        "\n"
      ],
      "metadata": {
        "id": "_Xcq53qaNJ3y"
      }
    },
    {
      "cell_type": "markdown",
      "source": [
        "# Reshaping arrays\n",
        "\n",
        "##### KEY POINTS -\n",
        "\n",
        "* After reshaping an array, the contents remain the same\n"
      ],
      "metadata": {
        "id": "8AwhZjjVMvV1"
      }
    },
    {
      "cell_type": "code",
      "source": [
        "## i have created an array (3*4 dimensions)\n",
        "\n",
        "arr = np.array([[1,2,3,4],[6,7,8,9],[11,12,13,14]])\n",
        "print(arr)"
      ],
      "metadata": {
        "id": "FEMigudQNIl5",
        "colab": {
          "base_uri": "https://localhost:8080/"
        },
        "outputId": "a2cf3240-b62c-4e81-9d1a-7aa8592f3aac"
      },
      "execution_count": null,
      "outputs": [
        {
          "output_type": "stream",
          "name": "stdout",
          "text": [
            "[[ 1  2  3  4]\n",
            " [ 6  7  8  9]\n",
            " [11 12 13 14]]\n"
          ]
        }
      ]
    },
    {
      "cell_type": "markdown",
      "source": [
        "#### Reshape Function\n",
        "\n",
        "if earlier my array dimensions were m * n then i can reshape my array to some new dimension provided **n * m = m * n**\n",
        "*  .reshape(m,n)"
      ],
      "metadata": {
        "id": "_SBuMsYGOMcf"
      }
    },
    {
      "cell_type": "code",
      "source": [
        "# Now i want to reshape this array from 3*4 to say 4*3  then, i will use the .reshape(m,n) function\n"
      ],
      "metadata": {
        "id": "RUHMhoJRN06E"
      },
      "execution_count": null,
      "outputs": []
    },
    {
      "cell_type": "code",
      "source": [
        "arr.reshape(4,3)"
      ],
      "metadata": {
        "colab": {
          "base_uri": "https://localhost:8080/"
        },
        "id": "3wk9F2SbaM74",
        "outputId": "2ab51a5d-f1df-4224-eb02-edaf1c8fe82b"
      },
      "execution_count": null,
      "outputs": [
        {
          "output_type": "execute_result",
          "data": {
            "text/plain": [
              "array([[ 1,  2,  3],\n",
              "       [ 4,  6,  7],\n",
              "       [ 8,  9, 11],\n",
              "       [12, 13, 14]])"
            ]
          },
          "metadata": {},
          "execution_count": 55
        }
      ]
    },
    {
      "cell_type": "code",
      "source": [],
      "metadata": {
        "id": "EOeudgksOL8T"
      },
      "execution_count": null,
      "outputs": []
    },
    {
      "cell_type": "markdown",
      "source": [
        "# Indexing in Arrays\n",
        "\n",
        "* Indexing always starts from Zero\n"
      ],
      "metadata": {
        "id": "Kj4DqujQPW38"
      }
    },
    {
      "cell_type": "markdown",
      "source": [
        "#### For 1D Array\n",
        "\n"
      ],
      "metadata": {
        "id": "PENgi18-Qb84"
      }
    },
    {
      "cell_type": "code",
      "source": [
        "arr = np.array([1,2,3,4,5])"
      ],
      "metadata": {
        "id": "lk2nmfoaPlIN"
      },
      "execution_count": null,
      "outputs": []
    },
    {
      "cell_type": "code",
      "source": [
        "# for a 1D array\n",
        "print(arr[2])\n"
      ],
      "metadata": {
        "id": "QSnYz-fMPdU9",
        "colab": {
          "base_uri": "https://localhost:8080/"
        },
        "outputId": "5747d6fa-2458-41d9-c58f-4987eb05f4f1"
      },
      "execution_count": null,
      "outputs": [
        {
          "output_type": "stream",
          "name": "stdout",
          "text": [
            "3\n"
          ]
        }
      ]
    },
    {
      "cell_type": "code",
      "source": [],
      "metadata": {
        "id": "AXygZu3UP5Fv"
      },
      "execution_count": null,
      "outputs": []
    },
    {
      "cell_type": "markdown",
      "source": [
        "#### For 2D Array\n",
        "\n",
        "* We can access elements like a[][] in 2d arrays but when diving deep into Python we avoid this.\n",
        "\n",
        "* We use **Slicing** concept here"
      ],
      "metadata": {
        "id": "dfCjI8EqQk3u"
      }
    },
    {
      "cell_type": "code",
      "source": [
        "#let's create a 2d array\n",
        "c = np.array([[1,2,3,4],[5,6,7,8],[9,10,11,12]])\n",
        "print(c)"
      ],
      "metadata": {
        "id": "vROXEGo9QobZ",
        "colab": {
          "base_uri": "https://localhost:8080/"
        },
        "outputId": "6c41b6ac-95b3-4690-9e82-e9fc4379c590"
      },
      "execution_count": null,
      "outputs": [
        {
          "output_type": "stream",
          "name": "stdout",
          "text": [
            "[[ 1  2  3  4]\n",
            " [ 5  6  7  8]\n",
            " [ 9 10 11 12]]\n"
          ]
        }
      ]
    },
    {
      "cell_type": "markdown",
      "source": [
        "## How Slicing Works ?\n",
        "\n",
        "* arr[_row_ , _col_ ]\n",
        "\n",
        "* arr[ *start_row : end_row* , *start_col : end_col* ]\n",
        "\n",
        "*where, **Start row** and **Start col** are **Inclusive** and **End row** and **End col** are **exclusive** .*\n",
        "\n",
        "#### Note - If end_row or end_col are not specified, it means till the last row and last column (including them)"
      ],
      "metadata": {
        "id": "erkLovzpRPTU"
      }
    },
    {
      "cell_type": "code",
      "source": [
        "print(c[0:2 , 1:3])"
      ],
      "metadata": {
        "id": "koWkF8nxRL4N",
        "colab": {
          "base_uri": "https://localhost:8080/"
        },
        "outputId": "a68a8d26-d644-45d8-e9d1-5648b906001e"
      },
      "execution_count": null,
      "outputs": [
        {
          "output_type": "stream",
          "name": "stdout",
          "text": [
            "[[2 3]\n",
            " [6 7]]\n"
          ]
        }
      ]
    },
    {
      "cell_type": "code",
      "source": [
        "## i want\n",
        "\n",
        "# [[6 7]\n",
        "#  [10 11]]\n",
        "\n",
        "print(c[1:3,1:3])"
      ],
      "metadata": {
        "colab": {
          "base_uri": "https://localhost:8080/"
        },
        "id": "LbRbPhcLpgq-",
        "outputId": "206e226a-d34b-47d6-dea1-9eea2017da7b"
      },
      "execution_count": null,
      "outputs": [
        {
          "output_type": "stream",
          "name": "stdout",
          "text": [
            "[[ 6  7]\n",
            " [10 11]]\n"
          ]
        }
      ]
    },
    {
      "cell_type": "markdown",
      "source": [
        "## Boolean Indexing\n",
        "* like i have a array of height and from it i want to derive/select some bracket of height, so we will go like this height[height> 160]\n",
        "\n"
      ],
      "metadata": {
        "id": "cqbhbxi7VBm3"
      }
    },
    {
      "cell_type": "code",
      "source": [
        "bool_arr = np.array([10, 20, 30, 40, 50])\n"
      ],
      "metadata": {
        "id": "rVkOV318S412"
      },
      "execution_count": null,
      "outputs": []
    },
    {
      "cell_type": "code",
      "source": [
        "print(\"Values > 25:\", bool_arr[bool_arr > 25])"
      ],
      "metadata": {
        "colab": {
          "base_uri": "https://localhost:8080/"
        },
        "id": "ERfVtX2ieb2u",
        "outputId": "9c3c97fc-8b26-4298-817e-3ac0b29ca2bd"
      },
      "execution_count": null,
      "outputs": [
        {
          "output_type": "stream",
          "name": "stdout",
          "text": [
            "Values > 25: [30 40 50]\n"
          ]
        }
      ]
    },
    {
      "cell_type": "markdown",
      "source": [
        "## Aggregation and Statistics\n",
        "\n",
        " * .sum()\n",
        " * .mean()\n",
        " * .max()\n",
        " * .min()\n",
        " * .std() -> standard deviation\n"
      ],
      "metadata": {
        "id": "ET9fEeUDU0or"
      }
    },
    {
      "cell_type": "code",
      "source": [
        "arr = np.array([1,2,3,4,5])"
      ],
      "metadata": {
        "id": "XKzZdpYWogXW"
      },
      "execution_count": null,
      "outputs": []
    },
    {
      "cell_type": "code",
      "source": [
        "arr.sum()"
      ],
      "metadata": {
        "id": "EhHXZizRU5Jg",
        "colab": {
          "base_uri": "https://localhost:8080/"
        },
        "outputId": "8057b3ee-fe9c-42bc-d2cb-5b717cbfb6d7"
      },
      "execution_count": null,
      "outputs": [
        {
          "output_type": "execute_result",
          "data": {
            "text/plain": [
              "np.int64(15)"
            ]
          },
          "metadata": {},
          "execution_count": 68
        }
      ]
    },
    {
      "cell_type": "code",
      "source": [
        "arr.mean()"
      ],
      "metadata": {
        "id": "5kCiaCIXU50-",
        "colab": {
          "base_uri": "https://localhost:8080/"
        },
        "outputId": "994cb001-109c-451d-aba9-c252be99d785"
      },
      "execution_count": null,
      "outputs": [
        {
          "output_type": "execute_result",
          "data": {
            "text/plain": [
              "np.float64(3.0)"
            ]
          },
          "metadata": {},
          "execution_count": 69
        }
      ]
    },
    {
      "cell_type": "code",
      "source": [
        "arr.max()"
      ],
      "metadata": {
        "id": "qUhw9TSTYCHE",
        "colab": {
          "base_uri": "https://localhost:8080/"
        },
        "outputId": "434b53a7-588e-4937-87b0-9fb95a26f754"
      },
      "execution_count": null,
      "outputs": [
        {
          "output_type": "execute_result",
          "data": {
            "text/plain": [
              "np.int64(5)"
            ]
          },
          "metadata": {},
          "execution_count": 70
        }
      ]
    },
    {
      "cell_type": "code",
      "source": [
        "arr.min()"
      ],
      "metadata": {
        "colab": {
          "base_uri": "https://localhost:8080/"
        },
        "id": "w_T2xVXfouIa",
        "outputId": "b80557f4-f6fb-44de-8a5a-11588a16daed"
      },
      "execution_count": null,
      "outputs": [
        {
          "output_type": "execute_result",
          "data": {
            "text/plain": [
              "np.int64(1)"
            ]
          },
          "metadata": {},
          "execution_count": 71
        }
      ]
    },
    {
      "cell_type": "code",
      "source": [
        "arr.std()"
      ],
      "metadata": {
        "id": "EdvhylqTouE6"
      },
      "execution_count": null,
      "outputs": []
    },
    {
      "cell_type": "markdown",
      "source": [
        "### Copying\n",
        "\n",
        "* .copy() - inbuilt function\n",
        "* array[x:y] = z"
      ],
      "metadata": {
        "id": "yEtv0GB9WCC8"
      }
    },
    {
      "cell_type": "code",
      "source": [
        "arr = np.array([1,2,3,4,5,6,7,8])"
      ],
      "metadata": {
        "id": "zXmpB01AWlNb"
      },
      "execution_count": null,
      "outputs": []
    },
    {
      "cell_type": "code",
      "source": [
        "arr2 = arr.copy()"
      ],
      "metadata": {
        "id": "2N1-TXU6WHPM"
      },
      "execution_count": null,
      "outputs": []
    },
    {
      "cell_type": "code",
      "source": [
        "print(arr2)"
      ],
      "metadata": {
        "id": "0GADsTBtW2kJ",
        "colab": {
          "base_uri": "https://localhost:8080/"
        },
        "outputId": "61e612b2-eb20-438a-c360-829d2d77c981"
      },
      "execution_count": null,
      "outputs": [
        {
          "output_type": "stream",
          "name": "stdout",
          "text": [
            "[1 2 3 4 5 6 7 8]\n"
          ]
        }
      ]
    },
    {
      "cell_type": "markdown",
      "source": [
        "## Tasks for today\n",
        "\n",
        "* Study BROADCASTING IN numPy"
      ],
      "metadata": {
        "id": "aiyf0rZIUoU6"
      }
    },
    {
      "cell_type": "markdown",
      "source": [
        "# 💡 Did You Know?\n",
        "\n",
        "* NumPy is the base for almost all scientific libraries in Python like Pandas, SciPy, and Scikit-learn.\n",
        "* Internally, NumPy is implemented in C for performance.\n",
        "* It's 50x faster than pure Python lists for numerical computations!"
      ],
      "metadata": {
        "id": "Pj_LM4DNUyVC"
      }
    },
    {
      "cell_type": "markdown",
      "source": [
        "*for doubts, you can contact -*  \n",
        "\n",
        "*Agrim Verma*\n",
        "\n",
        "*8847046566*\n",
        "\n",
        "*Linkedin -  www.linkedin.com/in/agrimverma11*"
      ],
      "metadata": {
        "id": "YwcBE8-WYtVI"
      }
    }
  ]
}